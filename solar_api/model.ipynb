{
 "cells": [
  {
   "cell_type": "code",
   "execution_count": 1,
   "id": "878539e4",
   "metadata": {},
   "outputs": [],
   "source": [
    "import pandas as pd\n",
    "import numpy as np\n",
    "import pickle\n",
    "from sklearn.model_selection import train_test_split\n",
    "from sklearn.ensemble import RandomForestClassifier\n",
    "from sklearn.metrics import classification_report\n",
    "\n",
    "seed=np.random.seed(100)"
   ]
  },
  {
   "cell_type": "code",
   "execution_count": 2,
   "id": "582410be",
   "metadata": {},
   "outputs": [
    {
     "data": {
      "text/html": [
       "<div>\n",
       "<style scoped>\n",
       "    .dataframe tbody tr th:only-of-type {\n",
       "        vertical-align: middle;\n",
       "    }\n",
       "\n",
       "    .dataframe tbody tr th {\n",
       "        vertical-align: top;\n",
       "    }\n",
       "\n",
       "    .dataframe thead th {\n",
       "        text-align: right;\n",
       "    }\n",
       "</style>\n",
       "<table border=\"1\" class=\"dataframe\">\n",
       "  <thead>\n",
       "    <tr style=\"text-align: right;\">\n",
       "      <th></th>\n",
       "      <th>S1(Amp)</th>\n",
       "      <th>S2(Amp)</th>\n",
       "      <th>S1(Volt)</th>\n",
       "      <th>S2(Volt)</th>\n",
       "      <th>Light(kiloLux)</th>\n",
       "      <th>Temp(degC)</th>\n",
       "      <th>Weather</th>\n",
       "      <th>State</th>\n",
       "    </tr>\n",
       "  </thead>\n",
       "  <tbody>\n",
       "    <tr>\n",
       "      <th>0</th>\n",
       "      <td>6.4</td>\n",
       "      <td>6.8</td>\n",
       "      <td>108</td>\n",
       "      <td>109</td>\n",
       "      <td>107.0</td>\n",
       "      <td>34</td>\n",
       "      <td>Sunny</td>\n",
       "      <td>Normal</td>\n",
       "    </tr>\n",
       "    <tr>\n",
       "      <th>1</th>\n",
       "      <td>7.1</td>\n",
       "      <td>6.5</td>\n",
       "      <td>110</td>\n",
       "      <td>107</td>\n",
       "      <td>108.0</td>\n",
       "      <td>38</td>\n",
       "      <td>Sunny</td>\n",
       "      <td>Normal</td>\n",
       "    </tr>\n",
       "    <tr>\n",
       "      <th>2</th>\n",
       "      <td>6.2</td>\n",
       "      <td>6.5</td>\n",
       "      <td>106</td>\n",
       "      <td>107</td>\n",
       "      <td>107.0</td>\n",
       "      <td>36</td>\n",
       "      <td>Sunny</td>\n",
       "      <td>Normal</td>\n",
       "    </tr>\n",
       "    <tr>\n",
       "      <th>3</th>\n",
       "      <td>7.4</td>\n",
       "      <td>6.1</td>\n",
       "      <td>108</td>\n",
       "      <td>109</td>\n",
       "      <td>104.0</td>\n",
       "      <td>35</td>\n",
       "      <td>Sunny</td>\n",
       "      <td>Normal</td>\n",
       "    </tr>\n",
       "    <tr>\n",
       "      <th>4</th>\n",
       "      <td>6.5</td>\n",
       "      <td>6.9</td>\n",
       "      <td>109</td>\n",
       "      <td>109</td>\n",
       "      <td>109.0</td>\n",
       "      <td>38</td>\n",
       "      <td>Sunny</td>\n",
       "      <td>Normal</td>\n",
       "    </tr>\n",
       "  </tbody>\n",
       "</table>\n",
       "</div>"
      ],
      "text/plain": [
       "    S1(Amp)  S2(Amp)  S1(Volt)  S2(Volt)  Light(kiloLux)  Temp(degC) Weather  \\\n",
       "0       6.4      6.8       108       109           107.0          34   Sunny   \n",
       "1       7.1      6.5       110       107           108.0          38   Sunny   \n",
       "2       6.2      6.5       106       107           107.0          36   Sunny   \n",
       "3       7.4      6.1       108       109           104.0          35   Sunny   \n",
       "4       6.5      6.9       109       109           109.0          38   Sunny   \n",
       "\n",
       "    State  \n",
       "0  Normal  \n",
       "1  Normal  \n",
       "2  Normal  \n",
       "3  Normal  \n",
       "4  Normal  "
      ]
     },
     "execution_count": 2,
     "metadata": {},
     "output_type": "execute_result"
    }
   ],
   "source": [
    "df=pd.read_csv('solar_data.csv')\n",
    "df.head()"
   ]
  },
  {
   "cell_type": "code",
   "execution_count": 3,
   "id": "14b12e91",
   "metadata": {},
   "outputs": [
    {
     "data": {
      "text/html": [
       "<div>\n",
       "<style scoped>\n",
       "    .dataframe tbody tr th:only-of-type {\n",
       "        vertical-align: middle;\n",
       "    }\n",
       "\n",
       "    .dataframe tbody tr th {\n",
       "        vertical-align: top;\n",
       "    }\n",
       "\n",
       "    .dataframe thead th {\n",
       "        text-align: right;\n",
       "    }\n",
       "</style>\n",
       "<table border=\"1\" class=\"dataframe\">\n",
       "  <thead>\n",
       "    <tr style=\"text-align: right;\">\n",
       "      <th></th>\n",
       "      <th>S1(Amp)</th>\n",
       "      <th>S2(Amp)</th>\n",
       "      <th>S1(Volt)</th>\n",
       "      <th>S2(Volt)</th>\n",
       "      <th>Light(kiloLux)</th>\n",
       "      <th>Temp(degC)</th>\n",
       "      <th>Weather</th>\n",
       "      <th>State</th>\n",
       "    </tr>\n",
       "  </thead>\n",
       "  <tbody>\n",
       "    <tr>\n",
       "      <th>1273</th>\n",
       "      <td>1.2</td>\n",
       "      <td>5.2</td>\n",
       "      <td>75</td>\n",
       "      <td>101</td>\n",
       "      <td>102.0</td>\n",
       "      <td>37</td>\n",
       "      <td>Cloudy</td>\n",
       "      <td>Line-line</td>\n",
       "    </tr>\n",
       "    <tr>\n",
       "      <th>1380</th>\n",
       "      <td>0.9</td>\n",
       "      <td>5.6</td>\n",
       "      <td>72</td>\n",
       "      <td>104</td>\n",
       "      <td>102.0</td>\n",
       "      <td>34</td>\n",
       "      <td>Cloudy</td>\n",
       "      <td>Line-line</td>\n",
       "    </tr>\n",
       "    <tr>\n",
       "      <th>356</th>\n",
       "      <td>5.5</td>\n",
       "      <td>5.3</td>\n",
       "      <td>102</td>\n",
       "      <td>106</td>\n",
       "      <td>93.0</td>\n",
       "      <td>24</td>\n",
       "      <td>Cloudy</td>\n",
       "      <td>Normal</td>\n",
       "    </tr>\n",
       "    <tr>\n",
       "      <th>1920</th>\n",
       "      <td>0.5</td>\n",
       "      <td>0.4</td>\n",
       "      <td>97</td>\n",
       "      <td>90</td>\n",
       "      <td>10.0</td>\n",
       "      <td>5</td>\n",
       "      <td>Cloudy</td>\n",
       "      <td>Normal</td>\n",
       "    </tr>\n",
       "    <tr>\n",
       "      <th>561</th>\n",
       "      <td>0.0</td>\n",
       "      <td>5.2</td>\n",
       "      <td>0</td>\n",
       "      <td>110</td>\n",
       "      <td>91.0</td>\n",
       "      <td>21</td>\n",
       "      <td>Sunny</td>\n",
       "      <td>Open</td>\n",
       "    </tr>\n",
       "  </tbody>\n",
       "</table>\n",
       "</div>"
      ],
      "text/plain": [
       "       S1(Amp)  S2(Amp)  S1(Volt)  S2(Volt)  Light(kiloLux)  Temp(degC)  \\\n",
       "1273       1.2      5.2        75       101           102.0          37   \n",
       "1380       0.9      5.6        72       104           102.0          34   \n",
       "356        5.5      5.3       102       106            93.0          24   \n",
       "1920       0.5      0.4        97        90            10.0           5   \n",
       "561        0.0      5.2         0       110            91.0          21   \n",
       "\n",
       "     Weather      State  \n",
       "1273  Cloudy  Line-line  \n",
       "1380  Cloudy  Line-line  \n",
       "356   Cloudy     Normal  \n",
       "1920  Cloudy     Normal  \n",
       "561    Sunny       Open  "
      ]
     },
     "execution_count": 3,
     "metadata": {},
     "output_type": "execute_result"
    }
   ],
   "source": [
    "df=df.sample(frac=1)\n",
    "df.head()"
   ]
  },
  {
   "cell_type": "code",
   "execution_count": 4,
   "id": "31d88a93",
   "metadata": {},
   "outputs": [
    {
     "data": {
      "text/html": [
       "<div>\n",
       "<style scoped>\n",
       "    .dataframe tbody tr th:only-of-type {\n",
       "        vertical-align: middle;\n",
       "    }\n",
       "\n",
       "    .dataframe tbody tr th {\n",
       "        vertical-align: top;\n",
       "    }\n",
       "\n",
       "    .dataframe thead th {\n",
       "        text-align: right;\n",
       "    }\n",
       "</style>\n",
       "<table border=\"1\" class=\"dataframe\">\n",
       "  <thead>\n",
       "    <tr style=\"text-align: right;\">\n",
       "      <th></th>\n",
       "      <th>S1(Amp)</th>\n",
       "      <th>S2(Amp)</th>\n",
       "      <th>S1(Volt)</th>\n",
       "      <th>S2(Volt)</th>\n",
       "      <th>Light(kiloLux)</th>\n",
       "      <th>Temp(degC)</th>\n",
       "      <th>Weather</th>\n",
       "      <th>State</th>\n",
       "    </tr>\n",
       "  </thead>\n",
       "  <tbody>\n",
       "    <tr>\n",
       "      <th>0</th>\n",
       "      <td>1.2</td>\n",
       "      <td>5.2</td>\n",
       "      <td>75</td>\n",
       "      <td>101</td>\n",
       "      <td>102.0</td>\n",
       "      <td>37</td>\n",
       "      <td>Cloudy</td>\n",
       "      <td>Line-line</td>\n",
       "    </tr>\n",
       "    <tr>\n",
       "      <th>1</th>\n",
       "      <td>0.9</td>\n",
       "      <td>5.6</td>\n",
       "      <td>72</td>\n",
       "      <td>104</td>\n",
       "      <td>102.0</td>\n",
       "      <td>34</td>\n",
       "      <td>Cloudy</td>\n",
       "      <td>Line-line</td>\n",
       "    </tr>\n",
       "    <tr>\n",
       "      <th>2</th>\n",
       "      <td>5.5</td>\n",
       "      <td>5.3</td>\n",
       "      <td>102</td>\n",
       "      <td>106</td>\n",
       "      <td>93.0</td>\n",
       "      <td>24</td>\n",
       "      <td>Cloudy</td>\n",
       "      <td>Normal</td>\n",
       "    </tr>\n",
       "    <tr>\n",
       "      <th>3</th>\n",
       "      <td>0.5</td>\n",
       "      <td>0.4</td>\n",
       "      <td>97</td>\n",
       "      <td>90</td>\n",
       "      <td>10.0</td>\n",
       "      <td>5</td>\n",
       "      <td>Cloudy</td>\n",
       "      <td>Normal</td>\n",
       "    </tr>\n",
       "    <tr>\n",
       "      <th>4</th>\n",
       "      <td>0.0</td>\n",
       "      <td>5.2</td>\n",
       "      <td>0</td>\n",
       "      <td>110</td>\n",
       "      <td>91.0</td>\n",
       "      <td>21</td>\n",
       "      <td>Sunny</td>\n",
       "      <td>Open</td>\n",
       "    </tr>\n",
       "  </tbody>\n",
       "</table>\n",
       "</div>"
      ],
      "text/plain": [
       "    S1(Amp)  S2(Amp)  S1(Volt)  S2(Volt)  Light(kiloLux)  Temp(degC) Weather  \\\n",
       "0       1.2      5.2        75       101           102.0          37  Cloudy   \n",
       "1       0.9      5.6        72       104           102.0          34  Cloudy   \n",
       "2       5.5      5.3       102       106            93.0          24  Cloudy   \n",
       "3       0.5      0.4        97        90            10.0           5  Cloudy   \n",
       "4       0.0      5.2         0       110            91.0          21   Sunny   \n",
       "\n",
       "       State  \n",
       "0  Line-line  \n",
       "1  Line-line  \n",
       "2     Normal  \n",
       "3     Normal  \n",
       "4       Open  "
      ]
     },
     "execution_count": 4,
     "metadata": {},
     "output_type": "execute_result"
    }
   ],
   "source": [
    "df.reset_index(inplace=True)\n",
    "df.drop('index', axis=1, inplace=True)\n",
    "df.head()"
   ]
  },
  {
   "cell_type": "code",
   "execution_count": 5,
   "id": "ebb3c8c1",
   "metadata": {},
   "outputs": [
    {
     "data": {
      "text/plain": [
       "Cloudy    1504\n",
       "Sunny     1496\n",
       "Name: Weather, dtype: int64"
      ]
     },
     "execution_count": 5,
     "metadata": {},
     "output_type": "execute_result"
    }
   ],
   "source": [
    "df.Weather.value_counts()"
   ]
  },
  {
   "cell_type": "code",
   "execution_count": 6,
   "id": "3b07512f",
   "metadata": {},
   "outputs": [
    {
     "data": {
      "text/html": [
       "<div>\n",
       "<style scoped>\n",
       "    .dataframe tbody tr th:only-of-type {\n",
       "        vertical-align: middle;\n",
       "    }\n",
       "\n",
       "    .dataframe tbody tr th {\n",
       "        vertical-align: top;\n",
       "    }\n",
       "\n",
       "    .dataframe thead th {\n",
       "        text-align: right;\n",
       "    }\n",
       "</style>\n",
       "<table border=\"1\" class=\"dataframe\">\n",
       "  <thead>\n",
       "    <tr style=\"text-align: right;\">\n",
       "      <th></th>\n",
       "      <th>S1(Amp)</th>\n",
       "      <th>S2(Amp)</th>\n",
       "      <th>S1(Volt)</th>\n",
       "      <th>S2(Volt)</th>\n",
       "      <th>Light(kiloLux)</th>\n",
       "      <th>Temp(degC)</th>\n",
       "      <th>Weather</th>\n",
       "      <th>State</th>\n",
       "    </tr>\n",
       "  </thead>\n",
       "  <tbody>\n",
       "    <tr>\n",
       "      <th>0</th>\n",
       "      <td>1.2</td>\n",
       "      <td>5.2</td>\n",
       "      <td>75</td>\n",
       "      <td>101</td>\n",
       "      <td>102.0</td>\n",
       "      <td>37</td>\n",
       "      <td>0</td>\n",
       "      <td>Line-line</td>\n",
       "    </tr>\n",
       "    <tr>\n",
       "      <th>1</th>\n",
       "      <td>0.9</td>\n",
       "      <td>5.6</td>\n",
       "      <td>72</td>\n",
       "      <td>104</td>\n",
       "      <td>102.0</td>\n",
       "      <td>34</td>\n",
       "      <td>0</td>\n",
       "      <td>Line-line</td>\n",
       "    </tr>\n",
       "    <tr>\n",
       "      <th>2</th>\n",
       "      <td>5.5</td>\n",
       "      <td>5.3</td>\n",
       "      <td>102</td>\n",
       "      <td>106</td>\n",
       "      <td>93.0</td>\n",
       "      <td>24</td>\n",
       "      <td>0</td>\n",
       "      <td>Normal</td>\n",
       "    </tr>\n",
       "    <tr>\n",
       "      <th>3</th>\n",
       "      <td>0.5</td>\n",
       "      <td>0.4</td>\n",
       "      <td>97</td>\n",
       "      <td>90</td>\n",
       "      <td>10.0</td>\n",
       "      <td>5</td>\n",
       "      <td>0</td>\n",
       "      <td>Normal</td>\n",
       "    </tr>\n",
       "    <tr>\n",
       "      <th>4</th>\n",
       "      <td>0.0</td>\n",
       "      <td>5.2</td>\n",
       "      <td>0</td>\n",
       "      <td>110</td>\n",
       "      <td>91.0</td>\n",
       "      <td>21</td>\n",
       "      <td>1</td>\n",
       "      <td>Open</td>\n",
       "    </tr>\n",
       "  </tbody>\n",
       "</table>\n",
       "</div>"
      ],
      "text/plain": [
       "    S1(Amp)  S2(Amp)  S1(Volt)  S2(Volt)  Light(kiloLux)  Temp(degC)  Weather  \\\n",
       "0       1.2      5.2        75       101           102.0          37        0   \n",
       "1       0.9      5.6        72       104           102.0          34        0   \n",
       "2       5.5      5.3       102       106            93.0          24        0   \n",
       "3       0.5      0.4        97        90            10.0           5        0   \n",
       "4       0.0      5.2         0       110            91.0          21        1   \n",
       "\n",
       "       State  \n",
       "0  Line-line  \n",
       "1  Line-line  \n",
       "2     Normal  \n",
       "3     Normal  \n",
       "4       Open  "
      ]
     },
     "execution_count": 6,
     "metadata": {},
     "output_type": "execute_result"
    }
   ],
   "source": [
    "df['Weather']=np.where(df['Weather'] == 'Sunny', 1, 0)\n",
    "df.head()"
   ]
  },
  {
   "cell_type": "code",
   "execution_count": 7,
   "id": "d860d16b",
   "metadata": {},
   "outputs": [
    {
     "data": {
      "text/plain": [
       "(3000, 8)"
      ]
     },
     "execution_count": 7,
     "metadata": {},
     "output_type": "execute_result"
    }
   ],
   "source": [
    "df.shape"
   ]
  },
  {
   "cell_type": "code",
   "execution_count": 8,
   "id": "c6573381",
   "metadata": {},
   "outputs": [],
   "source": [
    "X=df.iloc[:, :-1]\n",
    "y=df.iloc[:, -1]"
   ]
  },
  {
   "cell_type": "code",
   "execution_count": 9,
   "id": "50326cef",
   "metadata": {},
   "outputs": [
    {
     "data": {
      "text/html": [
       "<div>\n",
       "<style scoped>\n",
       "    .dataframe tbody tr th:only-of-type {\n",
       "        vertical-align: middle;\n",
       "    }\n",
       "\n",
       "    .dataframe tbody tr th {\n",
       "        vertical-align: top;\n",
       "    }\n",
       "\n",
       "    .dataframe thead th {\n",
       "        text-align: right;\n",
       "    }\n",
       "</style>\n",
       "<table border=\"1\" class=\"dataframe\">\n",
       "  <thead>\n",
       "    <tr style=\"text-align: right;\">\n",
       "      <th></th>\n",
       "      <th>S1(Amp)</th>\n",
       "      <th>S2(Amp)</th>\n",
       "      <th>S1(Volt)</th>\n",
       "      <th>S2(Volt)</th>\n",
       "      <th>Light(kiloLux)</th>\n",
       "      <th>Temp(degC)</th>\n",
       "      <th>Weather</th>\n",
       "    </tr>\n",
       "  </thead>\n",
       "  <tbody>\n",
       "    <tr>\n",
       "      <th>0</th>\n",
       "      <td>1.2</td>\n",
       "      <td>5.2</td>\n",
       "      <td>75</td>\n",
       "      <td>101</td>\n",
       "      <td>102.0</td>\n",
       "      <td>37</td>\n",
       "      <td>0</td>\n",
       "    </tr>\n",
       "    <tr>\n",
       "      <th>1</th>\n",
       "      <td>0.9</td>\n",
       "      <td>5.6</td>\n",
       "      <td>72</td>\n",
       "      <td>104</td>\n",
       "      <td>102.0</td>\n",
       "      <td>34</td>\n",
       "      <td>0</td>\n",
       "    </tr>\n",
       "    <tr>\n",
       "      <th>2</th>\n",
       "      <td>5.5</td>\n",
       "      <td>5.3</td>\n",
       "      <td>102</td>\n",
       "      <td>106</td>\n",
       "      <td>93.0</td>\n",
       "      <td>24</td>\n",
       "      <td>0</td>\n",
       "    </tr>\n",
       "    <tr>\n",
       "      <th>3</th>\n",
       "      <td>0.5</td>\n",
       "      <td>0.4</td>\n",
       "      <td>97</td>\n",
       "      <td>90</td>\n",
       "      <td>10.0</td>\n",
       "      <td>5</td>\n",
       "      <td>0</td>\n",
       "    </tr>\n",
       "    <tr>\n",
       "      <th>4</th>\n",
       "      <td>0.0</td>\n",
       "      <td>5.2</td>\n",
       "      <td>0</td>\n",
       "      <td>110</td>\n",
       "      <td>91.0</td>\n",
       "      <td>21</td>\n",
       "      <td>1</td>\n",
       "    </tr>\n",
       "  </tbody>\n",
       "</table>\n",
       "</div>"
      ],
      "text/plain": [
       "    S1(Amp)  S2(Amp)  S1(Volt)  S2(Volt)  Light(kiloLux)  Temp(degC)  Weather\n",
       "0       1.2      5.2        75       101           102.0          37        0\n",
       "1       0.9      5.6        72       104           102.0          34        0\n",
       "2       5.5      5.3       102       106            93.0          24        0\n",
       "3       0.5      0.4        97        90            10.0           5        0\n",
       "4       0.0      5.2         0       110            91.0          21        1"
      ]
     },
     "execution_count": 9,
     "metadata": {},
     "output_type": "execute_result"
    }
   ],
   "source": [
    "X.head()"
   ]
  },
  {
   "cell_type": "code",
   "execution_count": 10,
   "id": "3428f7e5",
   "metadata": {},
   "outputs": [
    {
     "data": {
      "text/plain": [
       "0    Line-line\n",
       "1    Line-line\n",
       "2       Normal\n",
       "3       Normal\n",
       "4         Open\n",
       "Name: State, dtype: object"
      ]
     },
     "execution_count": 10,
     "metadata": {},
     "output_type": "execute_result"
    }
   ],
   "source": [
    "y.head()"
   ]
  },
  {
   "cell_type": "code",
   "execution_count": 11,
   "id": "1403c51d",
   "metadata": {},
   "outputs": [
    {
     "data": {
      "text/plain": [
       "((2100, 7), (900, 7))"
      ]
     },
     "execution_count": 11,
     "metadata": {},
     "output_type": "execute_result"
    }
   ],
   "source": [
    "X_train, X_test, y_train, y_test=train_test_split(X, y, test_size=0.30, random_state=0)\n",
    "X_train.shape, X_test.shape"
   ]
  },
  {
   "cell_type": "code",
   "execution_count": 12,
   "id": "7eb9f52f",
   "metadata": {},
   "outputs": [
    {
     "data": {
      "text/plain": [
       "pandas.core.frame.DataFrame"
      ]
     },
     "execution_count": 12,
     "metadata": {},
     "output_type": "execute_result"
    }
   ],
   "source": [
    "type(X_test)"
   ]
  },
  {
   "cell_type": "code",
   "execution_count": 13,
   "id": "39993fe0",
   "metadata": {},
   "outputs": [
    {
     "data": {
      "text/html": [
       "<div>\n",
       "<style scoped>\n",
       "    .dataframe tbody tr th:only-of-type {\n",
       "        vertical-align: middle;\n",
       "    }\n",
       "\n",
       "    .dataframe tbody tr th {\n",
       "        vertical-align: top;\n",
       "    }\n",
       "\n",
       "    .dataframe thead th {\n",
       "        text-align: right;\n",
       "    }\n",
       "</style>\n",
       "<table border=\"1\" class=\"dataframe\">\n",
       "  <thead>\n",
       "    <tr style=\"text-align: right;\">\n",
       "      <th></th>\n",
       "      <th>S1(Amp)</th>\n",
       "      <th>S2(Amp)</th>\n",
       "      <th>S1(Volt)</th>\n",
       "      <th>S2(Volt)</th>\n",
       "      <th>Light(kiloLux)</th>\n",
       "      <th>Temp(degC)</th>\n",
       "      <th>Weather</th>\n",
       "    </tr>\n",
       "  </thead>\n",
       "  <tbody>\n",
       "    <tr>\n",
       "      <th>311</th>\n",
       "      <td>5.8</td>\n",
       "      <td>5.9</td>\n",
       "      <td>105</td>\n",
       "      <td>107</td>\n",
       "      <td>97.0</td>\n",
       "      <td>28</td>\n",
       "      <td>0</td>\n",
       "    </tr>\n",
       "    <tr>\n",
       "      <th>1025</th>\n",
       "      <td>0.8</td>\n",
       "      <td>0.0</td>\n",
       "      <td>85</td>\n",
       "      <td>0</td>\n",
       "      <td>11.0</td>\n",
       "      <td>6</td>\n",
       "      <td>0</td>\n",
       "    </tr>\n",
       "    <tr>\n",
       "      <th>1587</th>\n",
       "      <td>0.6</td>\n",
       "      <td>0.0</td>\n",
       "      <td>86</td>\n",
       "      <td>0</td>\n",
       "      <td>12.0</td>\n",
       "      <td>3</td>\n",
       "      <td>0</td>\n",
       "    </tr>\n",
       "    <tr>\n",
       "      <th>2941</th>\n",
       "      <td>0.0</td>\n",
       "      <td>3.7</td>\n",
       "      <td>0</td>\n",
       "      <td>103</td>\n",
       "      <td>90.0</td>\n",
       "      <td>16</td>\n",
       "      <td>1</td>\n",
       "    </tr>\n",
       "    <tr>\n",
       "      <th>2980</th>\n",
       "      <td>3.9</td>\n",
       "      <td>4.1</td>\n",
       "      <td>87</td>\n",
       "      <td>84</td>\n",
       "      <td>87.0</td>\n",
       "      <td>15</td>\n",
       "      <td>1</td>\n",
       "    </tr>\n",
       "  </tbody>\n",
       "</table>\n",
       "</div>"
      ],
      "text/plain": [
       "       S1(Amp)  S2(Amp)  S1(Volt)  S2(Volt)  Light(kiloLux)  Temp(degC)  \\\n",
       "311        5.8      5.9       105       107            97.0          28   \n",
       "1025       0.8      0.0        85         0            11.0           6   \n",
       "1587       0.6      0.0        86         0            12.0           3   \n",
       "2941       0.0      3.7         0       103            90.0          16   \n",
       "2980       3.9      4.1        87        84            87.0          15   \n",
       "\n",
       "      Weather  \n",
       "311         0  \n",
       "1025        0  \n",
       "1587        0  \n",
       "2941        1  \n",
       "2980        1  "
      ]
     },
     "execution_count": 13,
     "metadata": {},
     "output_type": "execute_result"
    }
   ],
   "source": [
    "X_test.head()"
   ]
  },
  {
   "cell_type": "code",
   "execution_count": 14,
   "id": "6ad81891",
   "metadata": {},
   "outputs": [],
   "source": [
    "X_test.to_csv('test_data.csv', index=False)"
   ]
  },
  {
   "cell_type": "code",
   "execution_count": 15,
   "id": "9e0bfa58",
   "metadata": {},
   "outputs": [],
   "source": [
    "rf_model=RandomForestClassifier().fit(X_train, y_train)"
   ]
  },
  {
   "cell_type": "code",
   "execution_count": 16,
   "id": "1a325f7c",
   "metadata": {},
   "outputs": [
    {
     "data": {
      "text/plain": [
       "array(['Normal', 'Open', 'Open', 'Open', 'Normal', 'Line-line', 'Normal',\n",
       "       'Normal', 'Open', 'Line-line'], dtype=object)"
      ]
     },
     "execution_count": 16,
     "metadata": {},
     "output_type": "execute_result"
    }
   ],
   "source": [
    "y_pred=rf_model.predict(X_test)\n",
    "y_pred[:10]"
   ]
  },
  {
   "cell_type": "code",
   "execution_count": 17,
   "id": "bb0592e2",
   "metadata": {},
   "outputs": [
    {
     "name": "stdout",
     "output_type": "stream",
     "text": [
      "311        Normal\n",
      "1025         Open\n",
      "1587         Open\n",
      "2941         Open\n",
      "2980       Normal\n",
      "2078    Line-line\n",
      "2281       Normal\n",
      "720        Normal\n",
      "1537         Open\n",
      "2493    Line-line\n",
      "Name: State, dtype: object\n"
     ]
    }
   ],
   "source": [
    "print(y_test[:10])"
   ]
  },
  {
   "cell_type": "code",
   "execution_count": 18,
   "id": "6b6f29a1",
   "metadata": {},
   "outputs": [
    {
     "name": "stdout",
     "output_type": "stream",
     "text": [
      "              precision    recall  f1-score   support\n",
      "\n",
      "   Line-line       1.00      1.00      1.00       304\n",
      "      Normal       1.00      1.00      1.00       301\n",
      "        Open       1.00      1.00      1.00       295\n",
      "\n",
      "    accuracy                           1.00       900\n",
      "   macro avg       1.00      1.00      1.00       900\n",
      "weighted avg       1.00      1.00      1.00       900\n",
      "\n"
     ]
    }
   ],
   "source": [
    "print(classification_report(y_test, y_pred))"
   ]
  },
  {
   "cell_type": "code",
   "execution_count": 19,
   "id": "83ba5df5",
   "metadata": {},
   "outputs": [
    {
     "data": {
      "text/plain": [
       "array(['Line-line'], dtype=object)"
      ]
     },
     "execution_count": 19,
     "metadata": {},
     "output_type": "execute_result"
    }
   ],
   "source": [
    "rf_model.predict([[1.2, 5.2, 75, 101, 102, 37, 0]])"
   ]
  },
  {
   "cell_type": "code",
   "execution_count": 20,
   "id": "4ec5f97e",
   "metadata": {},
   "outputs": [],
   "source": [
    "pickle.dump(rf_model, open('model.pkl', 'wb'))"
   ]
  }
 ],
 "metadata": {
  "kernelspec": {
   "display_name": "Python 3",
   "language": "python",
   "name": "python3"
  },
  "language_info": {
   "codemirror_mode": {
    "name": "ipython",
    "version": 3
   },
   "file_extension": ".py",
   "mimetype": "text/x-python",
   "name": "python",
   "nbconvert_exporter": "python",
   "pygments_lexer": "ipython3",
   "version": "3.8.8"
  }
 },
 "nbformat": 4,
 "nbformat_minor": 5
}
